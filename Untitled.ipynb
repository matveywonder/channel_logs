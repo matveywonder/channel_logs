{
 "cells": [
  {
   "cell_type": "markdown",
   "id": "fc282ebe",
   "metadata": {},
   "source": [
    "# Обзор данных"
   ]
  },
  {
   "cell_type": "code",
   "execution_count": 1,
   "id": "b46cdd0d",
   "metadata": {},
   "outputs": [],
   "source": [
    "import pandas as pd\n",
    "import re\n",
    "import numpy as np\n",
    "from datetime import datetime\n",
    "import matplotlib.pyplot as plt"
   ]
  },
  {
   "cell_type": "code",
   "execution_count": 2,
   "id": "85262e75",
   "metadata": {},
   "outputs": [],
   "source": [
    "pd.set_option('display.max_colwidth', None) \n",
    "pd.set_option('display.max_rows', None)"
   ]
  },
  {
   "cell_type": "code",
   "execution_count": 3,
   "id": "7b3f52bc",
   "metadata": {},
   "outputs": [],
   "source": [
    "df = pd.read_csv(r'C:\\Users\\Matvey Wonder\\Downloads\\Telegram Desktop\\ChatExport_2024-01-09 (1)\\chat_data.csv')"
   ]
  },
  {
   "cell_type": "code",
   "execution_count": 4,
   "id": "0d5de2d8",
   "metadata": {},
   "outputs": [
    {
     "name": "stdout",
     "output_type": "stream",
     "text": [
      "<class 'pandas.core.frame.DataFrame'>\n",
      "RangeIndex: 1656 entries, 0 to 1655\n",
      "Data columns (total 4 columns):\n",
      " #   Column    Non-Null Count  Dtype \n",
      "---  ------    --------------  ----- \n",
      " 0   username  1656 non-null   object\n",
      " 1   user_id   1656 non-null   object\n",
      " 2   message   1653 non-null   object\n",
      " 3   date      1656 non-null   object\n",
      "dtypes: object(4)\n",
      "memory usage: 51.9+ KB\n"
     ]
    }
   ],
   "source": [
    "df.info()"
   ]
  },
  {
   "cell_type": "code",
   "execution_count": 5,
   "id": "f41e935e",
   "metadata": {},
   "outputs": [
    {
     "data": {
      "text/html": [
       "<div>\n",
       "<style scoped>\n",
       "    .dataframe tbody tr th:only-of-type {\n",
       "        vertical-align: middle;\n",
       "    }\n",
       "\n",
       "    .dataframe tbody tr th {\n",
       "        vertical-align: top;\n",
       "    }\n",
       "\n",
       "    .dataframe thead th {\n",
       "        text-align: right;\n",
       "    }\n",
       "</style>\n",
       "<table border=\"1\" class=\"dataframe\">\n",
       "  <thead>\n",
       "    <tr style=\"text-align: right;\">\n",
       "      <th></th>\n",
       "      <th>username</th>\n",
       "      <th>user_id</th>\n",
       "      <th>message</th>\n",
       "      <th>date</th>\n",
       "    </tr>\n",
       "  </thead>\n",
       "  <tbody>\n",
       "    <tr>\n",
       "      <th>1651</th>\n",
       "      <td>Futureskills_Chat_Bot_Log</td>\n",
       "      <td>channel1963769303</td>\n",
       "      <td>['Ник: AnnaBrykalova, ID: 321626629\\n\\nСообщение:\\n', {'type': 'bot_command', 'text': '/start'}, '']</td>\n",
       "      <td>2024-01-08T20:13:34</td>\n",
       "    </tr>\n",
       "    <tr>\n",
       "      <th>1652</th>\n",
       "      <td>Futureskills_Chat_Bot_Log</td>\n",
       "      <td>channel1963769303</td>\n",
       "      <td>['Ник: Kahper, ID: 723824231\\n\\nСообщение:\\n', {'type': 'bot_command', 'text': '/start'}, '']</td>\n",
       "      <td>2024-01-08T20:46:11</td>\n",
       "    </tr>\n",
       "    <tr>\n",
       "      <th>1653</th>\n",
       "      <td>Futureskills_Chat_Bot_Log</td>\n",
       "      <td>channel1963769303</td>\n",
       "      <td>['Ник: artjvt, ID: 331964396\\n\\nСообщение:\\n', {'type': 'bot_command', 'text': '/start'}, '']</td>\n",
       "      <td>2024-01-08T21:17:29</td>\n",
       "    </tr>\n",
       "    <tr>\n",
       "      <th>1654</th>\n",
       "      <td>Futureskills_Chat_Bot_Log</td>\n",
       "      <td>channel1963769303</td>\n",
       "      <td>['Ник: artjvt, ID: 331964396\\n\\nСообщение:\\n', {'type': 'bot_command', 'text': '/help'}, '']</td>\n",
       "      <td>2024-01-08T21:17:54</td>\n",
       "    </tr>\n",
       "    <tr>\n",
       "      <th>1655</th>\n",
       "      <td>Futureskills_Chat_Bot_Log</td>\n",
       "      <td>channel1963769303</td>\n",
       "      <td>['Ник: None, ID: 813314129\\n\\nСообщение:\\n', {'type': 'bot_command', 'text': '/start'}, '']</td>\n",
       "      <td>2024-01-09T11:49:49</td>\n",
       "    </tr>\n",
       "  </tbody>\n",
       "</table>\n",
       "</div>"
      ],
      "text/plain": [
       "                       username            user_id  \\\n",
       "1651  Futureskills_Chat_Bot_Log  channel1963769303   \n",
       "1652  Futureskills_Chat_Bot_Log  channel1963769303   \n",
       "1653  Futureskills_Chat_Bot_Log  channel1963769303   \n",
       "1654  Futureskills_Chat_Bot_Log  channel1963769303   \n",
       "1655  Futureskills_Chat_Bot_Log  channel1963769303   \n",
       "\n",
       "                                                                                                   message  \\\n",
       "1651  ['Ник: AnnaBrykalova, ID: 321626629\\n\\nСообщение:\\n', {'type': 'bot_command', 'text': '/start'}, '']   \n",
       "1652         ['Ник: Kahper, ID: 723824231\\n\\nСообщение:\\n', {'type': 'bot_command', 'text': '/start'}, '']   \n",
       "1653         ['Ник: artjvt, ID: 331964396\\n\\nСообщение:\\n', {'type': 'bot_command', 'text': '/start'}, '']   \n",
       "1654          ['Ник: artjvt, ID: 331964396\\n\\nСообщение:\\n', {'type': 'bot_command', 'text': '/help'}, '']   \n",
       "1655           ['Ник: None, ID: 813314129\\n\\nСообщение:\\n', {'type': 'bot_command', 'text': '/start'}, '']   \n",
       "\n",
       "                     date  \n",
       "1651  2024-01-08T20:13:34  \n",
       "1652  2024-01-08T20:46:11  \n",
       "1653  2024-01-08T21:17:29  \n",
       "1654  2024-01-08T21:17:54  \n",
       "1655  2024-01-09T11:49:49  "
      ]
     },
     "execution_count": 5,
     "metadata": {},
     "output_type": "execute_result"
    }
   ],
   "source": [
    "df.tail(5)"
   ]
  },
  {
   "cell_type": "code",
   "execution_count": 6,
   "id": "66562445",
   "metadata": {},
   "outputs": [
    {
     "data": {
      "text/html": [
       "<div>\n",
       "<style scoped>\n",
       "    .dataframe tbody tr th:only-of-type {\n",
       "        vertical-align: middle;\n",
       "    }\n",
       "\n",
       "    .dataframe tbody tr th {\n",
       "        vertical-align: top;\n",
       "    }\n",
       "\n",
       "    .dataframe thead th {\n",
       "        text-align: right;\n",
       "    }\n",
       "</style>\n",
       "<table border=\"1\" class=\"dataframe\">\n",
       "  <thead>\n",
       "    <tr style=\"text-align: right;\">\n",
       "      <th></th>\n",
       "      <th>username</th>\n",
       "      <th>user_id</th>\n",
       "      <th>message</th>\n",
       "      <th>date</th>\n",
       "    </tr>\n",
       "  </thead>\n",
       "  <tbody>\n",
       "    <tr>\n",
       "      <th>count</th>\n",
       "      <td>1656</td>\n",
       "      <td>1656</td>\n",
       "      <td>1653</td>\n",
       "      <td>1656</td>\n",
       "    </tr>\n",
       "    <tr>\n",
       "      <th>unique</th>\n",
       "      <td>1</td>\n",
       "      <td>1</td>\n",
       "      <td>1372</td>\n",
       "      <td>1601</td>\n",
       "    </tr>\n",
       "    <tr>\n",
       "      <th>top</th>\n",
       "      <td>Futureskills_Chat_Bot_Log</td>\n",
       "      <td>channel1963769303</td>\n",
       "      <td>['Ник: Hanna_Kaus, ID: ', {'type': 'phone', 'text': '1536850196'}, '\\n\\nСообщение:\\n', {'type': 'bot_command', 'text': '/clear'}, '']</td>\n",
       "      <td>2024-01-04T23:13:59</td>\n",
       "    </tr>\n",
       "    <tr>\n",
       "      <th>freq</th>\n",
       "      <td>1656</td>\n",
       "      <td>1656</td>\n",
       "      <td>11</td>\n",
       "      <td>3</td>\n",
       "    </tr>\n",
       "  </tbody>\n",
       "</table>\n",
       "</div>"
      ],
      "text/plain": [
       "                         username            user_id  \\\n",
       "count                        1656               1656   \n",
       "unique                          1                  1   \n",
       "top     Futureskills_Chat_Bot_Log  channel1963769303   \n",
       "freq                         1656               1656   \n",
       "\n",
       "                                                                                                                                      message  \\\n",
       "count                                                                                                                                    1653   \n",
       "unique                                                                                                                                   1372   \n",
       "top     ['Ник: Hanna_Kaus, ID: ', {'type': 'phone', 'text': '1536850196'}, '\\n\\nСообщение:\\n', {'type': 'bot_command', 'text': '/clear'}, '']   \n",
       "freq                                                                                                                                       11   \n",
       "\n",
       "                       date  \n",
       "count                  1656  \n",
       "unique                 1601  \n",
       "top     2024-01-04T23:13:59  \n",
       "freq                      3  "
      ]
     },
     "execution_count": 6,
     "metadata": {},
     "output_type": "execute_result"
    }
   ],
   "source": [
    "df.describe()"
   ]
  },
  {
   "cell_type": "markdown",
   "id": "fcea4054",
   "metadata": {},
   "source": [
    "Всего в канале Futureskills_Chat_Bot_Log 1656 сообщений, 3 из которых пустые."
   ]
  },
  {
   "cell_type": "markdown",
   "id": "ed7a9e5c",
   "metadata": {},
   "source": [
    "# Предобработка"
   ]
  },
  {
   "cell_type": "markdown",
   "id": "33682375",
   "metadata": {},
   "source": [
    "## 1 Пропуски"
   ]
  },
  {
   "cell_type": "code",
   "execution_count": 7,
   "id": "dddd4d63",
   "metadata": {},
   "outputs": [
    {
     "data": {
      "text/plain": [
       "username    0\n",
       "user_id     0\n",
       "message     3\n",
       "date        0\n",
       "dtype: int64"
      ]
     },
     "execution_count": 7,
     "metadata": {},
     "output_type": "execute_result"
    }
   ],
   "source": [
    "df.isna().sum()"
   ]
  },
  {
   "cell_type": "code",
   "execution_count": 8,
   "id": "7e3be45b",
   "metadata": {},
   "outputs": [
    {
     "data": {
      "text/html": [
       "<div>\n",
       "<style scoped>\n",
       "    .dataframe tbody tr th:only-of-type {\n",
       "        vertical-align: middle;\n",
       "    }\n",
       "\n",
       "    .dataframe tbody tr th {\n",
       "        vertical-align: top;\n",
       "    }\n",
       "\n",
       "    .dataframe thead th {\n",
       "        text-align: right;\n",
       "    }\n",
       "</style>\n",
       "<table border=\"1\" class=\"dataframe\">\n",
       "  <thead>\n",
       "    <tr style=\"text-align: right;\">\n",
       "      <th></th>\n",
       "      <th>username</th>\n",
       "      <th>user_id</th>\n",
       "      <th>message</th>\n",
       "      <th>date</th>\n",
       "    </tr>\n",
       "  </thead>\n",
       "  <tbody>\n",
       "    <tr>\n",
       "      <th>20</th>\n",
       "      <td>Futureskills_Chat_Bot_Log</td>\n",
       "      <td>channel1963769303</td>\n",
       "      <td>NaN</td>\n",
       "      <td>2024-01-03T15:25:40</td>\n",
       "    </tr>\n",
       "    <tr>\n",
       "      <th>23</th>\n",
       "      <td>Futureskills_Chat_Bot_Log</td>\n",
       "      <td>channel1963769303</td>\n",
       "      <td>NaN</td>\n",
       "      <td>2024-01-03T15:29:00</td>\n",
       "    </tr>\n",
       "    <tr>\n",
       "      <th>26</th>\n",
       "      <td>Futureskills_Chat_Bot_Log</td>\n",
       "      <td>channel1963769303</td>\n",
       "      <td>NaN</td>\n",
       "      <td>2024-01-03T15:31:16</td>\n",
       "    </tr>\n",
       "  </tbody>\n",
       "</table>\n",
       "</div>"
      ],
      "text/plain": [
       "                     username            user_id message                 date\n",
       "20  Futureskills_Chat_Bot_Log  channel1963769303     NaN  2024-01-03T15:25:40\n",
       "23  Futureskills_Chat_Bot_Log  channel1963769303     NaN  2024-01-03T15:29:00\n",
       "26  Futureskills_Chat_Bot_Log  channel1963769303     NaN  2024-01-03T15:31:16"
      ]
     },
     "execution_count": 8,
     "metadata": {},
     "output_type": "execute_result"
    }
   ],
   "source": [
    "df[df['message'].isna()]"
   ]
  },
  {
   "cell_type": "code",
   "execution_count": 9,
   "id": "68fa104f",
   "metadata": {},
   "outputs": [],
   "source": [
    "df = df.dropna()"
   ]
  },
  {
   "cell_type": "markdown",
   "id": "68958704",
   "metadata": {},
   "source": [
    "## 2 Информация из message"
   ]
  },
  {
   "cell_type": "code",
   "execution_count": 10,
   "id": "7cbed3b2",
   "metadata": {
    "scrolled": true
   },
   "outputs": [],
   "source": [
    "df['message'] = df['message'].replace(to_replace=['\\\\n', '\\[', '\\]', '\\{', '\\}', ':', \"'\"], value='', regex=True)\n"
   ]
  },
  {
   "cell_type": "code",
   "execution_count": 11,
   "id": "5dcb3941",
   "metadata": {},
   "outputs": [],
   "source": [
    "# Функция для определения значения 'username' в зависимости от сообщения\n",
    "def extract_username(message):\n",
    "    if \"Картинка для\" in message or \"от бота\" in message:\n",
    "        return 'bot'\n",
    "    else:\n",
    "        match = re.search(r'Ник (.*?),', message)\n",
    "        if match:\n",
    "            return match.group(1)\n",
    "        else:\n",
    "            return None\n",
    "\n",
    "# Применение функции к столбцу 'message' и создание нового столбца 'username'\n",
    "df['username'] = df['message'].apply(extract_username)\n",
    "\n",
    "df['username'] = df['username'].fillna('bot')"
   ]
  },
  {
   "cell_type": "code",
   "execution_count": 12,
   "id": "13bcecec",
   "metadata": {
    "scrolled": true
   },
   "outputs": [],
   "source": [
    "df['user_id'] = df['message'].str.extract(r'ID (.*?)С')\n",
    "\n",
    "# Условие для проверки наличия \"Картинка для\" или \"от бота\" в сообщении\n",
    "condition = (df['message'].str.contains(\"Картинка для\") | df['message'].str.contains(\"от бота\"))\n",
    "\n",
    "# Применение различных значений в зависимости от условия\n",
    "df['user_id'] = np.where(condition, 0, df['user_id'])\n",
    "\n",
    "df['user_id'] = df['user_id'].str.extract('(\\d+)')\n",
    "df['user_id'] = df['user_id'].fillna('0')\n"
   ]
  },
  {
   "cell_type": "code",
   "execution_count": 13,
   "id": "875bca28",
   "metadata": {},
   "outputs": [],
   "source": [
    "df['message'] = df['message'].str.extract(r'Сообщение(.*)')\n",
    "df['message'] = df['message'].fillna('image')"
   ]
  },
  {
   "cell_type": "code",
   "execution_count": 14,
   "id": "80fd1ee3",
   "metadata": {},
   "outputs": [],
   "source": [
    "def process_message(message):\n",
    "    if 'bot_command, text' in message:\n",
    "        return message.split('bot_command, text ')[1]\n",
    "    else:\n",
    "        return message"
   ]
  },
  {
   "cell_type": "code",
   "execution_count": 15,
   "id": "a62a5968",
   "metadata": {},
   "outputs": [],
   "source": [
    "df['message'] = df['message'].apply(process_message)"
   ]
  },
  {
   "cell_type": "markdown",
   "id": "849e2468",
   "metadata": {},
   "source": [
    "## 3 Тип данных"
   ]
  },
  {
   "cell_type": "code",
   "execution_count": 16,
   "id": "5601f1dd",
   "metadata": {},
   "outputs": [],
   "source": [
    "df['date'] = pd.to_datetime(df['date'])"
   ]
  },
  {
   "cell_type": "code",
   "execution_count": 17,
   "id": "5d9409be",
   "metadata": {},
   "outputs": [],
   "source": [
    "df['user_id'] = df['user_id'].astype('int64')"
   ]
  },
  {
   "cell_type": "code",
   "execution_count": 18,
   "id": "0ee5704c",
   "metadata": {},
   "outputs": [],
   "source": [
    "df['message'] = df['message'].astype(str)"
   ]
  },
  {
   "cell_type": "code",
   "execution_count": 19,
   "id": "b98a74ae",
   "metadata": {},
   "outputs": [],
   "source": [
    "df['message'] = df['message'].replace(to_replace=[',', '\\n', 'от бота'], value='', regex=True)"
   ]
  },
  {
   "cell_type": "markdown",
   "id": "da88d730",
   "metadata": {},
   "source": [
    "## 4 Дополнительные столбцы"
   ]
  },
  {
   "cell_type": "code",
   "execution_count": 20,
   "id": "88deeb27",
   "metadata": {},
   "outputs": [],
   "source": [
    "df['hour'] = df['date'].dt.hour\n",
    "df['days'] = df['date'].dt.day"
   ]
  },
  {
   "cell_type": "code",
   "execution_count": 21,
   "id": "13eb09cd",
   "metadata": {},
   "outputs": [],
   "source": [
    "df['type_message'] = 'text'\n",
    "\n",
    "# Обновите значения в 'type_message' в соответствии с вашими условиями\n",
    "df.loc[df['message'].str.contains('/image'), 'type_message'] = 'image'\n",
    "df.loc[df['message'].str.startswith('/') & ~df['message'].str.contains('image'), 'type_message'] = 'command'\n",
    "df.loc[df['username'].str.contains('bot'),'type_message'] = 'bot'"
   ]
  },
  {
   "cell_type": "markdown",
   "id": "8bf805fc",
   "metadata": {},
   "source": [
    "# Анализ данных"
   ]
  },
  {
   "cell_type": "code",
   "execution_count": 22,
   "id": "b2126806",
   "metadata": {},
   "outputs": [
    {
     "name": "stdout",
     "output_type": "stream",
     "text": [
      "<class 'pandas.core.frame.DataFrame'>\n",
      "Int64Index: 1653 entries, 0 to 1655\n",
      "Data columns (total 7 columns):\n",
      " #   Column        Non-Null Count  Dtype         \n",
      "---  ------        --------------  -----         \n",
      " 0   username      1653 non-null   object        \n",
      " 1   user_id       1653 non-null   int64         \n",
      " 2   message       1653 non-null   object        \n",
      " 3   date          1653 non-null   datetime64[ns]\n",
      " 4   hour          1653 non-null   int64         \n",
      " 5   days          1653 non-null   int64         \n",
      " 6   type_message  1653 non-null   object        \n",
      "dtypes: datetime64[ns](1), int64(3), object(3)\n",
      "memory usage: 103.3+ KB\n"
     ]
    }
   ],
   "source": [
    "df.info()"
   ]
  },
  {
   "cell_type": "code",
   "execution_count": 23,
   "id": "4a55eecd",
   "metadata": {
    "scrolled": true
   },
   "outputs": [
    {
     "data": {
      "text/html": [
       "<div>\n",
       "<style scoped>\n",
       "    .dataframe tbody tr th:only-of-type {\n",
       "        vertical-align: middle;\n",
       "    }\n",
       "\n",
       "    .dataframe tbody tr th {\n",
       "        vertical-align: top;\n",
       "    }\n",
       "\n",
       "    .dataframe thead th {\n",
       "        text-align: right;\n",
       "    }\n",
       "</style>\n",
       "<table border=\"1\" class=\"dataframe\">\n",
       "  <thead>\n",
       "    <tr style=\"text-align: right;\">\n",
       "      <th></th>\n",
       "      <th>username</th>\n",
       "      <th>user_id</th>\n",
       "      <th>message</th>\n",
       "      <th>date</th>\n",
       "      <th>hour</th>\n",
       "      <th>days</th>\n",
       "      <th>type_message</th>\n",
       "    </tr>\n",
       "  </thead>\n",
       "  <tbody>\n",
       "    <tr>\n",
       "      <th>1631</th>\n",
       "      <td>bot</td>\n",
       "      <td>0</td>\n",
       "      <td>image</td>\n",
       "      <td>2024-01-07 03:10:17</td>\n",
       "      <td>3</td>\n",
       "      <td>7</td>\n",
       "      <td>bot</td>\n",
       "    </tr>\n",
       "    <tr>\n",
       "      <th>1632</th>\n",
       "      <td>GuntaRaga</td>\n",
       "      <td>1194301382</td>\n",
       "      <td>/image  женщина красит волосы hdr</td>\n",
       "      <td>2024-01-07 03:10:32</td>\n",
       "      <td>3</td>\n",
       "      <td>7</td>\n",
       "      <td>image</td>\n",
       "    </tr>\n",
       "    <tr>\n",
       "      <th>1633</th>\n",
       "      <td>bot</td>\n",
       "      <td>0</td>\n",
       "      <td>image</td>\n",
       "      <td>2024-01-07 03:10:43</td>\n",
       "      <td>3</td>\n",
       "      <td>7</td>\n",
       "      <td>bot</td>\n",
       "    </tr>\n",
       "    <tr>\n",
       "      <th>1634</th>\n",
       "      <td>GuntaRaga</td>\n",
       "      <td>1194301382</td>\n",
       "      <td>/image  женщина красит волосы hdr</td>\n",
       "      <td>2024-01-07 03:11:37</td>\n",
       "      <td>3</td>\n",
       "      <td>7</td>\n",
       "      <td>image</td>\n",
       "    </tr>\n",
       "    <tr>\n",
       "      <th>1635</th>\n",
       "      <td>bot</td>\n",
       "      <td>0</td>\n",
       "      <td>image</td>\n",
       "      <td>2024-01-07 03:11:53</td>\n",
       "      <td>3</td>\n",
       "      <td>7</td>\n",
       "      <td>bot</td>\n",
       "    </tr>\n",
       "    <tr>\n",
       "      <th>1636</th>\n",
       "      <td>GuntaRaga</td>\n",
       "      <td>1194301382</td>\n",
       "      <td>/image  женщина красит волосы hdr</td>\n",
       "      <td>2024-01-07 03:12:38</td>\n",
       "      <td>3</td>\n",
       "      <td>7</td>\n",
       "      <td>image</td>\n",
       "    </tr>\n",
       "    <tr>\n",
       "      <th>1637</th>\n",
       "      <td>bot</td>\n",
       "      <td>0</td>\n",
       "      <td>image</td>\n",
       "      <td>2024-01-07 03:12:54</td>\n",
       "      <td>3</td>\n",
       "      <td>7</td>\n",
       "      <td>bot</td>\n",
       "    </tr>\n",
       "    <tr>\n",
       "      <th>1638</th>\n",
       "      <td>nataljabindere</td>\n",
       "      <td>1311942714</td>\n",
       "      <td>/start</td>\n",
       "      <td>2024-01-07 03:27:27</td>\n",
       "      <td>3</td>\n",
       "      <td>7</td>\n",
       "      <td>command</td>\n",
       "    </tr>\n",
       "    <tr>\n",
       "      <th>1639</th>\n",
       "      <td>OE1007</td>\n",
       "      <td>634294409</td>\n",
       "      <td>Добавить сценарий для рилс согласно контент плана</td>\n",
       "      <td>2024-01-07 03:32:13</td>\n",
       "      <td>3</td>\n",
       "      <td>7</td>\n",
       "      <td>text</td>\n",
       "    </tr>\n",
       "    <tr>\n",
       "      <th>1640</th>\n",
       "      <td>bot</td>\n",
       "      <td>0</td>\n",
       "      <td>Давайте создадим сценарий для рилс (Reels в Instagram) который будет соответствовать контент-плану косметолога. Рилс будет направлен на привлечение внимания к услугам и укрепление доверия к специалисту.### Неделя 1 Образовательный рилс**Тема** \"5 мифов о уколах красоты\"**Сценарий**1. Вступление Косметолог с улыбкой встречает зрителей и представляется.2. Миф 1 \"Уколы красоты очень болезненны\" - косметолог кратко объясняет что современные методы минимизируют дискомфорт.3. Миф 2 \"Результаты ненатуральные\" - показывается фото до и после с естественным результатом.4. Миф 3 \"Это слишком дорого\" - информация о доступных пакетах услуг и акциях.5. Миф 4 \"Долгое восстановление\" - краткий рассказ о том что многие процедуры не требуют длительного восстановления.6. Миф 5 \"Только для звезд\" - косметолог утверждает что процедуры доступны для каждого.7. Заключение Приглашение записаться на консультацию и развеять мифы лично.### Неделя 2 Демонстрация экспертизы**Тема** \"День из жизни косметолога\"**Сценарий**1. Вступление Косметолог приветствует зрителей и говорит что сегодня покажет свой рабочий день.2. Подготовка кабинета Показать процесс стерилизации инструментов и подготовки к приему клиентов.3. Консультация Краткий фрагмент консультации с клиентом подчеркивая важность индивидуального подхода.4. Процедура Демонстрация процесса выполнения одной из процедур (без деталей чтобы избежать дискомфорта у зрителей).5. Результаты Показать удовлетворенного клиента и фото до/после.6. Заключение Косметолог делится своей любовью к работе и приглашает на консультацию.### Неделя 3 Взаимодействие с аудиторией**Тема** \"Ответы на ваши вопросы о коже\"**Сценарий**1. Вступление Косметолог приветствует зрителей и благодарит за заданные вопросы.2. Вопрос 1 Краткий ответ на самый популярный вопрос.3. Вопрос 2 Следующий ответ с демонстрацией продукта или техники.4. Вопрос 3 Ответ с советом по уходу за кожей.5. Вопрос 4 Разъяснение распространенного заблуждения.6. Заключение Косметолог приглашает зрителей задавать больше вопросов и записываться на процедуры.### Неделя 4 Промоция услуг**Тема** \"Специальное предложение недели\"**Сценарий**1. Вступление Косметолог весело сообщает о специальном предложении.2. Детали Объяснение что включает в себя предложение и каковы его преимущества.3. Сроки Информация о том как долго действует акция.4. Отзывы Краткие отзывы клиентов которые уже воспользовались предложением.5. Заключение Призыв к действию - записаться на процедуру пока акция еще действует.Для каждого рилса важно использовать привлекательные визуальные эффекты музыку и хэштеги чтобы увеличить охват и вовлеченность аудитории. Также не забывайте о том что контент должен быть коротким динамичным и легко усваиваемым.</td>\n",
       "      <td>2024-01-07 03:33:13</td>\n",
       "      <td>3</td>\n",
       "      <td>7</td>\n",
       "      <td>bot</td>\n",
       "    </tr>\n",
       "    <tr>\n",
       "      <th>1641</th>\n",
       "      <td>OE1007</td>\n",
       "      <td>634294409</td>\n",
       "      <td>Предложить ещё вариант</td>\n",
       "      <td>2024-01-07 03:37:59</td>\n",
       "      <td>3</td>\n",
       "      <td>7</td>\n",
       "      <td>text</td>\n",
       "    </tr>\n",
       "    <tr>\n",
       "      <th>1642</th>\n",
       "      <td>bot</td>\n",
       "      <td>0</td>\n",
       "      <td>Конечно вот еще один вариант сценария для рилса который подойдет для косметолога### Неделя 1 Образовательный рилс**Тема** \"Как работают уколы красоты?\"**Сценарий**1. Вступление Косметолог с улыбкой приветствует зрителей и анонсирует короткий урок о том как работают уколы красоты.2. Объяснение Наглядное объяснение на модели кожи о том как уколы помогают улучшить внешний вид.3. Преимущества Перечисление основных преимуществ процедур таких как увлажнение кожи уменьшение морщин и т.д.4. Безопасность Краткий комментарий о том что процедуры проводятся с соблюдением всех мер безопасности.5. Заключение Приглашение зрителей записаться на консультацию для индивидуальных рекомендаций.### Неделя 2 Демонстрация экспертизы**Тема** \"За кулисами выбор правильного филлера\"**Сценарий**1. Вступление Косметолог показывает различные виды филлеров и объясняет почему важен выбор.2. Критерии Объяснение какие факторы учитываются при выборе филлера для клиента.3. Примеры Показ нескольких филлеров и их текстур в действии (на руке или специальной палитре).4. Рекомендации Советы по тому как поддерживать результат после процедуры.5. Заключение Призыв к действию – записаться на консультацию для подбора идеального филлера.### Неделя 3 Взаимодействие с аудиторией**Тема** \"Ваши истории преображения\"**Сценарий**1. Вступление Косметолог приглашает зрителей поделиться своими историями изменений после процедур.2. История 1 Краткий рассказ о клиенте и его положительном опыте.3. История 2 Показ фото до и после другого довольного клиента.4. Вдохновение Косметолог делится как эти истории вдохновляют на продолжение работы.5. Заключение Призыв к зрителям поделиться своими историями и записаться на процедуру чтобы стать следующим героем рилса.### Неделя 4 Промоция услуг**Тема** \"Эксклюзивная процедура месяца\"**Сценарий**1. Вступление Косметолог анонсирует специальную процедуру месяца с ограниченным предложением.2. Детали Подробное описание процедуры и ее уникальные преимущества.3. Отзывы Включение коротких видео-отзывов клиентов которые уже испробовали процедуру.4. Сроки акции Информация о том как долго длится акция и сколько мест осталось.5. Заключение Призыв к действию – поторопиться и записаться пока есть возможность.Эти сценарии рилсов созданы таким образом чтобы быть интересными информативными и привлекательными для широкой аудитории а также чтобы стимулировать зрителей к действию – записи на консультацию или процедуру.</td>\n",
       "      <td>2024-01-07 03:38:38</td>\n",
       "      <td>3</td>\n",
       "      <td>7</td>\n",
       "      <td>bot</td>\n",
       "    </tr>\n",
       "    <tr>\n",
       "      <th>1643</th>\n",
       "      <td>OE1007</td>\n",
       "      <td>634294409</td>\n",
       "      <td>Добавить веселые рисл. Смешные моменты из жизни косметолога</td>\n",
       "      <td>2024-01-07 03:39:59</td>\n",
       "      <td>3</td>\n",
       "      <td>7</td>\n",
       "      <td>text</td>\n",
       "    </tr>\n",
       "    <tr>\n",
       "      <th>1644</th>\n",
       "      <td>bot</td>\n",
       "      <td>0</td>\n",
       "      <td>Создание веселых и развлекательных рилсов может помочь косметологу установить более теплые и дружеские отношения с аудиторией. Вот несколько идей для создания таких рилсов### Рилс 1 \"Когда клиент говорит что боится игл\"**Сценарий**1. Вступление Косметолог делает широко раскрытые глаза и изображает шокированное лицо.2. Переход Косметолог показывает иглу и затем мягко укалывает себя в руку показывая что это не больно.3. Юмор Косметолог изображает супергероя который \"спасает\" клиентов от страха перед иглами надевая плащ и маску.4. Заключение Подмигивание в камеру с сообщением \"Не волнуйтесь я профессионал!\"### Рилс 2 \"Когда ты косметолог но твоя собственная кожа решает дать сбой\"**Сценарий**1. Вступление Косметолог показывает свое идеальное лицо а затем внезапно появляется прыщ.2. Юмор Косметолог делает забавные лица пытаясь \"спрятать\" прыщ за различные предметы (крем маска для лица растения).3. Переход Косметолог наносит маску на лицо и делает танцевальные движения ожидая когда она подействует.4. Заключение Косметолог снимает маску показывая чистую кожу и радостно танцует.### Рилс 3 \"Когда клиент спрашивает можно ли сделать все процедуры за один раз\"**Сценарий**1. Вступление Косметолог с удивлением смотрит на камеру как будто только что услышал этот вопрос.2. Юмор Косметолог быстро \"пробегает\" через разные станции в кабинете делая вид что выполняет разные процедуры (массаж маски уколы) в ускоренном темпе.3. Переход Косметолог падает от усталости изображая истощение после \"марафона красоты\".4. Заключение Косметолог воскресает показывая знак \"стоп\" и смеется говоря \"Давайте все-таки по одной процедуре!\"### Рилс 4 \"Когда ты пытаешься следовать всем новым трендам в косметологии\"**Сценарий**1. Вступление Косметолог смотрит в камеру с серьезным лицом держа в руках кучу косметических журналов и гаджетов.2. Юмор Косметолог пытается одновременно читать журналы смотреть видеоуроки и применять новые гаджеты запутываясь в проводах и масках.3. Переход Косметолог \"замораживает\" кадр показывая жест \"тайм-аут\" и смеется.4. Заключение Косметолог говорит \"Лучше доверьтесь проверенным методам и профессионалу!\"Эти рилсы должны быть сняты в легком и игривом тоне чтобы подчеркнуть человеческую сторону профессии косметолога и показать что даже специалисты сталкиваются с забавными ситуациями. Используйте популярную музыку и трендовые эффекты для увеличения вовлеченности аудитории.</td>\n",
       "      <td>2024-01-07 03:40:34</td>\n",
       "      <td>3</td>\n",
       "      <td>7</td>\n",
       "      <td>bot</td>\n",
       "    </tr>\n",
       "    <tr>\n",
       "      <th>1645</th>\n",
       "      <td>TatianaGlu</td>\n",
       "      <td>458658338</td>\n",
       "      <td>/start</td>\n",
       "      <td>2024-01-07 10:26:04</td>\n",
       "      <td>10</td>\n",
       "      <td>7</td>\n",
       "      <td>command</td>\n",
       "    </tr>\n",
       "    <tr>\n",
       "      <th>1646</th>\n",
       "      <td>d_v_andreev</td>\n",
       "      <td>540936136</td>\n",
       "      <td>/start</td>\n",
       "      <td>2024-01-07 20:29:11</td>\n",
       "      <td>20</td>\n",
       "      <td>7</td>\n",
       "      <td>command</td>\n",
       "    </tr>\n",
       "    <tr>\n",
       "      <th>1647</th>\n",
       "      <td>sharonvvs</td>\n",
       "      <td>922148281</td>\n",
       "      <td>/start</td>\n",
       "      <td>2024-01-08 02:28:42</td>\n",
       "      <td>2</td>\n",
       "      <td>8</td>\n",
       "      <td>command</td>\n",
       "    </tr>\n",
       "    <tr>\n",
       "      <th>1648</th>\n",
       "      <td>VladlenaSotnik</td>\n",
       "      <td>990891325</td>\n",
       "      <td>/start</td>\n",
       "      <td>2024-01-08 13:27:11</td>\n",
       "      <td>13</td>\n",
       "      <td>8</td>\n",
       "      <td>command</td>\n",
       "    </tr>\n",
       "    <tr>\n",
       "      <th>1649</th>\n",
       "      <td>matveysaaranen</td>\n",
       "      <td>133584039</td>\n",
       "      <td>/start</td>\n",
       "      <td>2024-01-08 16:58:49</td>\n",
       "      <td>16</td>\n",
       "      <td>8</td>\n",
       "      <td>command</td>\n",
       "    </tr>\n",
       "    <tr>\n",
       "      <th>1650</th>\n",
       "      <td>matveysaaranen</td>\n",
       "      <td>133584039</td>\n",
       "      <td>/help</td>\n",
       "      <td>2024-01-08 16:59:26</td>\n",
       "      <td>16</td>\n",
       "      <td>8</td>\n",
       "      <td>command</td>\n",
       "    </tr>\n",
       "    <tr>\n",
       "      <th>1651</th>\n",
       "      <td>AnnaBrykalova</td>\n",
       "      <td>321626629</td>\n",
       "      <td>/start</td>\n",
       "      <td>2024-01-08 20:13:34</td>\n",
       "      <td>20</td>\n",
       "      <td>8</td>\n",
       "      <td>command</td>\n",
       "    </tr>\n",
       "    <tr>\n",
       "      <th>1652</th>\n",
       "      <td>Kahper</td>\n",
       "      <td>723824231</td>\n",
       "      <td>/start</td>\n",
       "      <td>2024-01-08 20:46:11</td>\n",
       "      <td>20</td>\n",
       "      <td>8</td>\n",
       "      <td>command</td>\n",
       "    </tr>\n",
       "    <tr>\n",
       "      <th>1653</th>\n",
       "      <td>artjvt</td>\n",
       "      <td>331964396</td>\n",
       "      <td>/start</td>\n",
       "      <td>2024-01-08 21:17:29</td>\n",
       "      <td>21</td>\n",
       "      <td>8</td>\n",
       "      <td>command</td>\n",
       "    </tr>\n",
       "    <tr>\n",
       "      <th>1654</th>\n",
       "      <td>artjvt</td>\n",
       "      <td>331964396</td>\n",
       "      <td>/help</td>\n",
       "      <td>2024-01-08 21:17:54</td>\n",
       "      <td>21</td>\n",
       "      <td>8</td>\n",
       "      <td>command</td>\n",
       "    </tr>\n",
       "    <tr>\n",
       "      <th>1655</th>\n",
       "      <td>None</td>\n",
       "      <td>813314129</td>\n",
       "      <td>/start</td>\n",
       "      <td>2024-01-09 11:49:49</td>\n",
       "      <td>11</td>\n",
       "      <td>9</td>\n",
       "      <td>command</td>\n",
       "    </tr>\n",
       "  </tbody>\n",
       "</table>\n",
       "</div>"
      ],
      "text/plain": [
       "            username     user_id  \\\n",
       "1631             bot           0   \n",
       "1632       GuntaRaga  1194301382   \n",
       "1633             bot           0   \n",
       "1634       GuntaRaga  1194301382   \n",
       "1635             bot           0   \n",
       "1636       GuntaRaga  1194301382   \n",
       "1637             bot           0   \n",
       "1638  nataljabindere  1311942714   \n",
       "1639          OE1007   634294409   \n",
       "1640             bot           0   \n",
       "1641          OE1007   634294409   \n",
       "1642             bot           0   \n",
       "1643          OE1007   634294409   \n",
       "1644             bot           0   \n",
       "1645      TatianaGlu   458658338   \n",
       "1646     d_v_andreev   540936136   \n",
       "1647       sharonvvs   922148281   \n",
       "1648  VladlenaSotnik   990891325   \n",
       "1649  matveysaaranen   133584039   \n",
       "1650  matveysaaranen   133584039   \n",
       "1651   AnnaBrykalova   321626629   \n",
       "1652          Kahper   723824231   \n",
       "1653          artjvt   331964396   \n",
       "1654          artjvt   331964396   \n",
       "1655            None   813314129   \n",
       "\n",
       "                                                                                                                                                                                                                                                                                                                                                                                                                                                                                                                                                                                                                                                                                                                                                                                                                                                                                                                                                                                                                                                                                                                                                                                                                                                                                                                                                                                                                                                                                                                                                                                                                                                                                                                                                                                                                                                                                                                                                                                                                                                                                                                                                                                                                                                                                                                                                                                                                                                                                                                                                                                                                                                                                                                                                                                                                            message  \\\n",
       "1631                                                                                                                                                                                                                                                                                                                                                                                                                                                                                                                                                                                                                                                                                                                                                                                                                                                                                                                                                                                                                                                                                                                                                                                                                                                                                                                                                                                                                                                                                                                                                                                                                                                                                                                                                                                                                                                                                                                                                                                                                                                                                                                                                                                                                                                                                                                                                                                                                                                                                                                                                                                                                                                                                                                                                                                                                          image   \n",
       "1632                                                                                                                                                                                                                                                                                                                                                                                                                                                                                                                                                                                                                                                                                                                                                                                                                                                                                                                                                                                                                                                                                                                                                                                                                                                                                                                                                                                                                                                                                                                                                                                                                                                                                                                                                                                                                                                                                                                                                                                                                                                                                                                                                                                                                                                                                                                                                                                                                                                                                                                                                                                                                                                                                                                                                                                              /image  женщина красит волосы hdr   \n",
       "1633                                                                                                                                                                                                                                                                                                                                                                                                                                                                                                                                                                                                                                                                                                                                                                                                                                                                                                                                                                                                                                                                                                                                                                                                                                                                                                                                                                                                                                                                                                                                                                                                                                                                                                                                                                                                                                                                                                                                                                                                                                                                                                                                                                                                                                                                                                                                                                                                                                                                                                                                                                                                                                                                                                                                                                                                                          image   \n",
       "1634                                                                                                                                                                                                                                                                                                                                                                                                                                                                                                                                                                                                                                                                                                                                                                                                                                                                                                                                                                                                                                                                                                                                                                                                                                                                                                                                                                                                                                                                                                                                                                                                                                                                                                                                                                                                                                                                                                                                                                                                                                                                                                                                                                                                                                                                                                                                                                                                                                                                                                                                                                                                                                                                                                                                                                                              /image  женщина красит волосы hdr   \n",
       "1635                                                                                                                                                                                                                                                                                                                                                                                                                                                                                                                                                                                                                                                                                                                                                                                                                                                                                                                                                                                                                                                                                                                                                                                                                                                                                                                                                                                                                                                                                                                                                                                                                                                                                                                                                                                                                                                                                                                                                                                                                                                                                                                                                                                                                                                                                                                                                                                                                                                                                                                                                                                                                                                                                                                                                                                                                          image   \n",
       "1636                                                                                                                                                                                                                                                                                                                                                                                                                                                                                                                                                                                                                                                                                                                                                                                                                                                                                                                                                                                                                                                                                                                                                                                                                                                                                                                                                                                                                                                                                                                                                                                                                                                                                                                                                                                                                                                                                                                                                                                                                                                                                                                                                                                                                                                                                                                                                                                                                                                                                                                                                                                                                                                                                                                                                                                              /image  женщина красит волосы hdr   \n",
       "1637                                                                                                                                                                                                                                                                                                                                                                                                                                                                                                                                                                                                                                                                                                                                                                                                                                                                                                                                                                                                                                                                                                                                                                                                                                                                                                                                                                                                                                                                                                                                                                                                                                                                                                                                                                                                                                                                                                                                                                                                                                                                                                                                                                                                                                                                                                                                                                                                                                                                                                                                                                                                                                                                                                                                                                                                                          image   \n",
       "1638                                                                                                                                                                                                                                                                                                                                                                                                                                                                                                                                                                                                                                                                                                                                                                                                                                                                                                                                                                                                                                                                                                                                                                                                                                                                                                                                                                                                                                                                                                                                                                                                                                                                                                                                                                                                                                                                                                                                                                                                                                                                                                                                                                                                                                                                                                                                                                                                                                                                                                                                                                                                                                                                                                                                                                                                                        /start    \n",
       "1639                                                                                                                                                                                                                                                                                                                                                                                                                                                                                                                                                                                                                                                                                                                                                                                                                                                                                                                                                                                                                                                                                                                                                                                                                                                                                                                                                                                                                                                                                                                                                                                                                                                                                                                                                                                                                                                                                                                                                                                                                                                                                                                                                                                                                                                                                                                                                                                                                                                                                                                                                                                                                                                                                                                                                                              Добавить сценарий для рилс согласно контент плана   \n",
       "1640   Давайте создадим сценарий для рилс (Reels в Instagram) который будет соответствовать контент-плану косметолога. Рилс будет направлен на привлечение внимания к услугам и укрепление доверия к специалисту.### Неделя 1 Образовательный рилс**Тема** \"5 мифов о уколах красоты\"**Сценарий**1. Вступление Косметолог с улыбкой встречает зрителей и представляется.2. Миф 1 \"Уколы красоты очень болезненны\" - косметолог кратко объясняет что современные методы минимизируют дискомфорт.3. Миф 2 \"Результаты ненатуральные\" - показывается фото до и после с естественным результатом.4. Миф 3 \"Это слишком дорого\" - информация о доступных пакетах услуг и акциях.5. Миф 4 \"Долгое восстановление\" - краткий рассказ о том что многие процедуры не требуют длительного восстановления.6. Миф 5 \"Только для звезд\" - косметолог утверждает что процедуры доступны для каждого.7. Заключение Приглашение записаться на консультацию и развеять мифы лично.### Неделя 2 Демонстрация экспертизы**Тема** \"День из жизни косметолога\"**Сценарий**1. Вступление Косметолог приветствует зрителей и говорит что сегодня покажет свой рабочий день.2. Подготовка кабинета Показать процесс стерилизации инструментов и подготовки к приему клиентов.3. Консультация Краткий фрагмент консультации с клиентом подчеркивая важность индивидуального подхода.4. Процедура Демонстрация процесса выполнения одной из процедур (без деталей чтобы избежать дискомфорта у зрителей).5. Результаты Показать удовлетворенного клиента и фото до/после.6. Заключение Косметолог делится своей любовью к работе и приглашает на консультацию.### Неделя 3 Взаимодействие с аудиторией**Тема** \"Ответы на ваши вопросы о коже\"**Сценарий**1. Вступление Косметолог приветствует зрителей и благодарит за заданные вопросы.2. Вопрос 1 Краткий ответ на самый популярный вопрос.3. Вопрос 2 Следующий ответ с демонстрацией продукта или техники.4. Вопрос 3 Ответ с советом по уходу за кожей.5. Вопрос 4 Разъяснение распространенного заблуждения.6. Заключение Косметолог приглашает зрителей задавать больше вопросов и записываться на процедуры.### Неделя 4 Промоция услуг**Тема** \"Специальное предложение недели\"**Сценарий**1. Вступление Косметолог весело сообщает о специальном предложении.2. Детали Объяснение что включает в себя предложение и каковы его преимущества.3. Сроки Информация о том как долго действует акция.4. Отзывы Краткие отзывы клиентов которые уже воспользовались предложением.5. Заключение Призыв к действию - записаться на процедуру пока акция еще действует.Для каждого рилса важно использовать привлекательные визуальные эффекты музыку и хэштеги чтобы увеличить охват и вовлеченность аудитории. Также не забывайте о том что контент должен быть коротким динамичным и легко усваиваемым.   \n",
       "1641                                                                                                                                                                                                                                                                                                                                                                                                                                                                                                                                                                                                                                                                                                                                                                                                                                                                                                                                                                                                                                                                                                                                                                                                                                                                                                                                                                                                                                                                                                                                                                                                                                                                                                                                                                                                                                                                                                                                                                                                                                                                                                                                                                                                                                                                                                                                                                                                                                                                                                                                                                                                                                                                                                                                                                                                         Предложить ещё вариант   \n",
       "1642                                                                                                                                                                                                                                                                                                        Конечно вот еще один вариант сценария для рилса который подойдет для косметолога### Неделя 1 Образовательный рилс**Тема** \"Как работают уколы красоты?\"**Сценарий**1. Вступление Косметолог с улыбкой приветствует зрителей и анонсирует короткий урок о том как работают уколы красоты.2. Объяснение Наглядное объяснение на модели кожи о том как уколы помогают улучшить внешний вид.3. Преимущества Перечисление основных преимуществ процедур таких как увлажнение кожи уменьшение морщин и т.д.4. Безопасность Краткий комментарий о том что процедуры проводятся с соблюдением всех мер безопасности.5. Заключение Приглашение зрителей записаться на консультацию для индивидуальных рекомендаций.### Неделя 2 Демонстрация экспертизы**Тема** \"За кулисами выбор правильного филлера\"**Сценарий**1. Вступление Косметолог показывает различные виды филлеров и объясняет почему важен выбор.2. Критерии Объяснение какие факторы учитываются при выборе филлера для клиента.3. Примеры Показ нескольких филлеров и их текстур в действии (на руке или специальной палитре).4. Рекомендации Советы по тому как поддерживать результат после процедуры.5. Заключение Призыв к действию – записаться на консультацию для подбора идеального филлера.### Неделя 3 Взаимодействие с аудиторией**Тема** \"Ваши истории преображения\"**Сценарий**1. Вступление Косметолог приглашает зрителей поделиться своими историями изменений после процедур.2. История 1 Краткий рассказ о клиенте и его положительном опыте.3. История 2 Показ фото до и после другого довольного клиента.4. Вдохновение Косметолог делится как эти истории вдохновляют на продолжение работы.5. Заключение Призыв к зрителям поделиться своими историями и записаться на процедуру чтобы стать следующим героем рилса.### Неделя 4 Промоция услуг**Тема** \"Эксклюзивная процедура месяца\"**Сценарий**1. Вступление Косметолог анонсирует специальную процедуру месяца с ограниченным предложением.2. Детали Подробное описание процедуры и ее уникальные преимущества.3. Отзывы Включение коротких видео-отзывов клиентов которые уже испробовали процедуру.4. Сроки акции Информация о том как долго длится акция и сколько мест осталось.5. Заключение Призыв к действию – поторопиться и записаться пока есть возможность.Эти сценарии рилсов созданы таким образом чтобы быть интересными информативными и привлекательными для широкой аудитории а также чтобы стимулировать зрителей к действию – записи на консультацию или процедуру.   \n",
       "1643                                                                                                                                                                                                                                                                                                                                                                                                                                                                                                                                                                                                                                                                                                                                                                                                                                                                                                                                                                                                                                                                                                                                                                                                                                                                                                                                                                                                                                                                                                                                                                                                                                                                                                                                                                                                                                                                                                                                                                                                                                                                                                                                                                                                                                                                                                                                                                                                                                                                                                                                                                                                                                                                                                                                                                    Добавить веселые рисл. Смешные моменты из жизни косметолога   \n",
       "1644                                                                                                                                                                                                                                                                                                                                  Создание веселых и развлекательных рилсов может помочь косметологу установить более теплые и дружеские отношения с аудиторией. Вот несколько идей для создания таких рилсов### Рилс 1 \"Когда клиент говорит что боится игл\"**Сценарий**1. Вступление Косметолог делает широко раскрытые глаза и изображает шокированное лицо.2. Переход Косметолог показывает иглу и затем мягко укалывает себя в руку показывая что это не больно.3. Юмор Косметолог изображает супергероя который \"спасает\" клиентов от страха перед иглами надевая плащ и маску.4. Заключение Подмигивание в камеру с сообщением \"Не волнуйтесь я профессионал!\"### Рилс 2 \"Когда ты косметолог но твоя собственная кожа решает дать сбой\"**Сценарий**1. Вступление Косметолог показывает свое идеальное лицо а затем внезапно появляется прыщ.2. Юмор Косметолог делает забавные лица пытаясь \"спрятать\" прыщ за различные предметы (крем маска для лица растения).3. Переход Косметолог наносит маску на лицо и делает танцевальные движения ожидая когда она подействует.4. Заключение Косметолог снимает маску показывая чистую кожу и радостно танцует.### Рилс 3 \"Когда клиент спрашивает можно ли сделать все процедуры за один раз\"**Сценарий**1. Вступление Косметолог с удивлением смотрит на камеру как будто только что услышал этот вопрос.2. Юмор Косметолог быстро \"пробегает\" через разные станции в кабинете делая вид что выполняет разные процедуры (массаж маски уколы) в ускоренном темпе.3. Переход Косметолог падает от усталости изображая истощение после \"марафона красоты\".4. Заключение Косметолог воскресает показывая знак \"стоп\" и смеется говоря \"Давайте все-таки по одной процедуре!\"### Рилс 4 \"Когда ты пытаешься следовать всем новым трендам в косметологии\"**Сценарий**1. Вступление Косметолог смотрит в камеру с серьезным лицом держа в руках кучу косметических журналов и гаджетов.2. Юмор Косметолог пытается одновременно читать журналы смотреть видеоуроки и применять новые гаджеты запутываясь в проводах и масках.3. Переход Косметолог \"замораживает\" кадр показывая жест \"тайм-аут\" и смеется.4. Заключение Косметолог говорит \"Лучше доверьтесь проверенным методам и профессионалу!\"Эти рилсы должны быть сняты в легком и игривом тоне чтобы подчеркнуть человеческую сторону профессии косметолога и показать что даже специалисты сталкиваются с забавными ситуациями. Используйте популярную музыку и трендовые эффекты для увеличения вовлеченности аудитории.   \n",
       "1645                                                                                                                                                                                                                                                                                                                                                                                                                                                                                                                                                                                                                                                                                                                                                                                                                                                                                                                                                                                                                                                                                                                                                                                                                                                                                                                                                                                                                                                                                                                                                                                                                                                                                                                                                                                                                                                                                                                                                                                                                                                                                                                                                                                                                                                                                                                                                                                                                                                                                                                                                                                                                                                                                                                                                                                                                        /start    \n",
       "1646                                                                                                                                                                                                                                                                                                                                                                                                                                                                                                                                                                                                                                                                                                                                                                                                                                                                                                                                                                                                                                                                                                                                                                                                                                                                                                                                                                                                                                                                                                                                                                                                                                                                                                                                                                                                                                                                                                                                                                                                                                                                                                                                                                                                                                                                                                                                                                                                                                                                                                                                                                                                                                                                                                                                                                                                                        /start    \n",
       "1647                                                                                                                                                                                                                                                                                                                                                                                                                                                                                                                                                                                                                                                                                                                                                                                                                                                                                                                                                                                                                                                                                                                                                                                                                                                                                                                                                                                                                                                                                                                                                                                                                                                                                                                                                                                                                                                                                                                                                                                                                                                                                                                                                                                                                                                                                                                                                                                                                                                                                                                                                                                                                                                                                                                                                                                                                        /start    \n",
       "1648                                                                                                                                                                                                                                                                                                                                                                                                                                                                                                                                                                                                                                                                                                                                                                                                                                                                                                                                                                                                                                                                                                                                                                                                                                                                                                                                                                                                                                                                                                                                                                                                                                                                                                                                                                                                                                                                                                                                                                                                                                                                                                                                                                                                                                                                                                                                                                                                                                                                                                                                                                                                                                                                                                                                                                                                                        /start    \n",
       "1649                                                                                                                                                                                                                                                                                                                                                                                                                                                                                                                                                                                                                                                                                                                                                                                                                                                                                                                                                                                                                                                                                                                                                                                                                                                                                                                                                                                                                                                                                                                                                                                                                                                                                                                                                                                                                                                                                                                                                                                                                                                                                                                                                                                                                                                                                                                                                                                                                                                                                                                                                                                                                                                                                                                                                                                                                        /start    \n",
       "1650                                                                                                                                                                                                                                                                                                                                                                                                                                                                                                                                                                                                                                                                                                                                                                                                                                                                                                                                                                                                                                                                                                                                                                                                                                                                                                                                                                                                                                                                                                                                                                                                                                                                                                                                                                                                                                                                                                                                                                                                                                                                                                                                                                                                                                                                                                                                                                                                                                                                                                                                                                                                                                                                                                                                                                                                                         /help    \n",
       "1651                                                                                                                                                                                                                                                                                                                                                                                                                                                                                                                                                                                                                                                                                                                                                                                                                                                                                                                                                                                                                                                                                                                                                                                                                                                                                                                                                                                                                                                                                                                                                                                                                                                                                                                                                                                                                                                                                                                                                                                                                                                                                                                                                                                                                                                                                                                                                                                                                                                                                                                                                                                                                                                                                                                                                                                                                        /start    \n",
       "1652                                                                                                                                                                                                                                                                                                                                                                                                                                                                                                                                                                                                                                                                                                                                                                                                                                                                                                                                                                                                                                                                                                                                                                                                                                                                                                                                                                                                                                                                                                                                                                                                                                                                                                                                                                                                                                                                                                                                                                                                                                                                                                                                                                                                                                                                                                                                                                                                                                                                                                                                                                                                                                                                                                                                                                                                                        /start    \n",
       "1653                                                                                                                                                                                                                                                                                                                                                                                                                                                                                                                                                                                                                                                                                                                                                                                                                                                                                                                                                                                                                                                                                                                                                                                                                                                                                                                                                                                                                                                                                                                                                                                                                                                                                                                                                                                                                                                                                                                                                                                                                                                                                                                                                                                                                                                                                                                                                                                                                                                                                                                                                                                                                                                                                                                                                                                                                        /start    \n",
       "1654                                                                                                                                                                                                                                                                                                                                                                                                                                                                                                                                                                                                                                                                                                                                                                                                                                                                                                                                                                                                                                                                                                                                                                                                                                                                                                                                                                                                                                                                                                                                                                                                                                                                                                                                                                                                                                                                                                                                                                                                                                                                                                                                                                                                                                                                                                                                                                                                                                                                                                                                                                                                                                                                                                                                                                                                                         /help    \n",
       "1655                                                                                                                                                                                                                                                                                                                                                                                                                                                                                                                                                                                                                                                                                                                                                                                                                                                                                                                                                                                                                                                                                                                                                                                                                                                                                                                                                                                                                                                                                                                                                                                                                                                                                                                                                                                                                                                                                                                                                                                                                                                                                                                                                                                                                                                                                                                                                                                                                                                                                                                                                                                                                                                                                                                                                                                                                        /start    \n",
       "\n",
       "                    date  hour  days type_message  \n",
       "1631 2024-01-07 03:10:17     3     7          bot  \n",
       "1632 2024-01-07 03:10:32     3     7        image  \n",
       "1633 2024-01-07 03:10:43     3     7          bot  \n",
       "1634 2024-01-07 03:11:37     3     7        image  \n",
       "1635 2024-01-07 03:11:53     3     7          bot  \n",
       "1636 2024-01-07 03:12:38     3     7        image  \n",
       "1637 2024-01-07 03:12:54     3     7          bot  \n",
       "1638 2024-01-07 03:27:27     3     7      command  \n",
       "1639 2024-01-07 03:32:13     3     7         text  \n",
       "1640 2024-01-07 03:33:13     3     7          bot  \n",
       "1641 2024-01-07 03:37:59     3     7         text  \n",
       "1642 2024-01-07 03:38:38     3     7          bot  \n",
       "1643 2024-01-07 03:39:59     3     7         text  \n",
       "1644 2024-01-07 03:40:34     3     7          bot  \n",
       "1645 2024-01-07 10:26:04    10     7      command  \n",
       "1646 2024-01-07 20:29:11    20     7      command  \n",
       "1647 2024-01-08 02:28:42     2     8      command  \n",
       "1648 2024-01-08 13:27:11    13     8      command  \n",
       "1649 2024-01-08 16:58:49    16     8      command  \n",
       "1650 2024-01-08 16:59:26    16     8      command  \n",
       "1651 2024-01-08 20:13:34    20     8      command  \n",
       "1652 2024-01-08 20:46:11    20     8      command  \n",
       "1653 2024-01-08 21:17:29    21     8      command  \n",
       "1654 2024-01-08 21:17:54    21     8      command  \n",
       "1655 2024-01-09 11:49:49    11     9      command  "
      ]
     },
     "execution_count": 23,
     "metadata": {},
     "output_type": "execute_result"
    }
   ],
   "source": [
    "df.tail(25)"
   ]
  },
  {
   "cell_type": "markdown",
   "id": "d811aa54",
   "metadata": {},
   "source": [
    "## 1 Уникальные пользователи"
   ]
  },
  {
   "cell_type": "code",
   "execution_count": 24,
   "id": "d4f37c36",
   "metadata": {},
   "outputs": [],
   "source": [
    "users = df[df['user_id'] != 0].copy()"
   ]
  },
  {
   "cell_type": "code",
   "execution_count": 37,
   "id": "609e696c",
   "metadata": {},
   "outputs": [
    {
     "name": "stdout",
     "output_type": "stream",
     "text": [
      "сообщений от пользователей: 1019\n",
      "сообщений от бота: 634\n"
     ]
    }
   ],
   "source": [
    "print('сообщений от пользователей:', users['username'].count())\n",
    "print('сообщений от бота:', df['username'].count() - users['username'].count())"
   ]
  },
  {
   "cell_type": "code",
   "execution_count": 26,
   "id": "232a0c80",
   "metadata": {},
   "outputs": [
    {
     "data": {
      "text/plain": [
       "71"
      ]
     },
     "execution_count": 26,
     "metadata": {},
     "output_type": "execute_result"
    }
   ],
   "source": [
    "users['username'].nunique()"
   ]
  },
  {
   "cell_type": "markdown",
   "id": "871eff75",
   "metadata": {},
   "source": [
    "Уникальные пользователи - 71"
   ]
  },
  {
   "cell_type": "code",
   "execution_count": 27,
   "id": "928cf727",
   "metadata": {},
   "outputs": [
    {
     "data": {
      "image/png": "[encoded data removed]",
      "text/plain": [
       "<Figure size 640x480 with 1 Axes>"
      ]
     },
     "metadata": {},
     "output_type": "display_data"
    }
   ],
   "source": [
    "users.groupby('user_id')['date'].count().sort_values(ascending=False).hist(edgecolor='black');"
   ]
  },
  {
   "cell_type": "markdown",
   "id": "8faa53ee",
   "metadata": {},
   "source": [
    "Большинство написало менее 50, но есть исключения."
   ]
  },
  {
   "cell_type": "code",
   "execution_count": 28,
   "id": "57b70f97",
   "metadata": {},
   "outputs": [
    {
     "data": {
      "image/png": "[encoded data removed]",
      "text/plain": [
       "<Figure size 640x480 with 1 Axes>"
      ]
     },
     "metadata": {},
     "output_type": "display_data"
    }
   ],
   "source": [
    "users.groupby('user_id')['date'].count().sort_values(ascending=False).hist(edgecolor='black', range=(0, 50));"
   ]
  },
  {
   "cell_type": "markdown",
   "id": "76dfd2e4",
   "metadata": {},
   "source": [
    "более 50 человек написало 5 и менее сообщений."
   ]
  },
  {
   "cell_type": "code",
   "execution_count": 29,
   "id": "a8f18f97",
   "metadata": {},
   "outputs": [
    {
     "data": {
      "text/plain": [
       "user_id\n",
       "1194301382    180\n",
       "1536850196    142\n",
       "634294409      51\n",
       "1065545388     44\n",
       "1059184736     34\n",
       "102990238      32\n",
       "1317905350     30\n",
       "1370632885     28\n",
       "513996633      27\n",
       "216304017      26\n",
       "1617288037     24\n",
       "478039462      22\n",
       "1568691136     21\n",
       "302977694      19\n",
       "925066915      19\n",
       "Name: date, dtype: int64"
      ]
     },
     "execution_count": 29,
     "metadata": {},
     "output_type": "execute_result"
    }
   ],
   "source": [
    "users.groupby('user_id')['date'].count().sort_values(ascending=False).head(15)"
   ]
  },
  {
   "cell_type": "code",
   "execution_count": 38,
   "id": "afc02d22",
   "metadata": {},
   "outputs": [
    {
     "data": {
      "text/plain": [
       "username\n",
       "GuntaRaga              180\n",
       "None                   179\n",
       "Hanna_Kaus             142\n",
       "OE1007                  51\n",
       "Allana_Kod              44\n",
       "Yuliya_Solodyankina     34\n",
       "olesia_tish             30\n",
       "evgeniy_buravcev        27\n",
       "AntonDem84              26\n",
       "KatjaKolkunova          24\n",
       "Hulnara                 22\n",
       "stasensus               21\n",
       "quackingknox            19\n",
       "TitanaVi                19\n",
       "angelakushnir22         17\n",
       "Name: date, dtype: int64"
      ]
     },
     "execution_count": 38,
     "metadata": {},
     "output_type": "execute_result"
    }
   ],
   "source": [
    "users.groupby('username')['date'].count().sort_values(ascending=False).head(15)"
   ]
  },
  {
   "cell_type": "markdown",
   "id": "b93fa449",
   "metadata": {},
   "source": [
    "##  2 Наплывы пользователей"
   ]
  },
  {
   "cell_type": "code",
   "execution_count": 30,
   "id": "2c63297c",
   "metadata": {},
   "outputs": [
    {
     "data": {
      "image/png": "[encoded data removed]",
      "text/plain": [
       "<Figure size 1000x600 with 1 Axes>"
      ]
     },
     "metadata": {},
     "output_type": "display_data"
    }
   ],
   "source": [
    "# Группируем по часам и подсчитываем количество пользователей\n",
    "hourly_counts = users.groupby('hour')['user_id'].count().reset_index()\n",
    "\n",
    "# Создаем диаграмму\n",
    "plt.figure(figsize=(10, 6))\n",
    "plt.bar(hourly_counts['hour'], hourly_counts['user_id'])\n",
    "plt.title('Количество пользователей по часам')\n",
    "plt.xlabel('Часы')\n",
    "plt.ylabel('Количество пользователей')\n",
    "plt.grid(axis='y')\n",
    "plt.show()"
   ]
  },
  {
   "cell_type": "markdown",
   "id": "08f91db2",
   "metadata": {},
   "source": [
    "Самая низкая активность с 5 утра до 12 дня. После активность стабильно расте и наблюдается скачок в 3 часа дня. Пиковая активность приходится на 3 часа ночи."
   ]
  },
  {
   "cell_type": "code",
   "execution_count": 39,
   "id": "44773d1a",
   "metadata": {},
   "outputs": [
    {
     "data": {
      "image/png": "[encoded data removed]",
      "text/plain": [
       "<Figure size 1000x600 with 1 Axes>"
      ]
     },
     "metadata": {},
     "output_type": "display_data"
    }
   ],
   "source": [
    "# Группируем по часам и подсчитываем количество пользователей\n",
    "hourly_counts = users.groupby('days')['user_id'].count().reset_index()\n",
    "\n",
    "# Создаем диаграмму\n",
    "plt.figure(figsize=(10, 6))\n",
    "plt.bar(hourly_counts['days'], hourly_counts['user_id'])\n",
    "plt.title('Количество пользователей по дням')\n",
    "plt.xlabel('День')\n",
    "plt.ylabel('Количество пользователей')\n",
    "plt.grid(axis='y')\n",
    "plt.show()"
   ]
  },
  {
   "cell_type": "markdown",
   "id": "5ef9058e",
   "metadata": {},
   "source": [
    "Самый активные дни: 5 и 6 числа."
   ]
  },
  {
   "cell_type": "markdown",
   "id": "5990b851",
   "metadata": {},
   "source": [
    "## 3 Типы сообщений"
   ]
  },
  {
   "cell_type": "code",
   "execution_count": 32,
   "id": "f9c6b1a6",
   "metadata": {},
   "outputs": [
    {
     "data": {
      "image/png": "[encoded data removed]",
      "text/plain": [
       "<Figure size 800x800 with 1 Axes>"
      ]
     },
     "metadata": {},
     "output_type": "display_data"
    }
   ],
   "source": [
    "message_types = users['type_message'].value_counts()\n",
    "\n",
    "# Постройте круговую диаграмму\n",
    "plt.figure(figsize=(8, 8))\n",
    "plt.pie(message_types, labels=message_types.index, autopct='%1.1f%%', startangle=140, colors=['blue', 'green', 'orange'])\n",
    "plt.title('Распределение типов сообщений')\n",
    "plt.show()"
   ]
  },
  {
   "cell_type": "markdown",
   "id": "c6cead21",
   "metadata": {},
   "source": [
    "Чаще всего люди отправляют сообщение с запросом картинки. 46.6%\n",
    "Текстовые вопросы 37.1 процент.\n",
    "Прочие команды типа /start /help 16.3%.\n",
    "\n",
    "Стоит учитывать что иногда люди неправильно отправляли команды. в том числе команду /image без текста для картинки."
   ]
  },
  {
   "cell_type": "markdown",
   "id": "b29c2745",
   "metadata": {},
   "source": [
    "## 4 Время ответа"
   ]
  },
  {
   "cell_type": "code",
   "execution_count": 33,
   "id": "8711587b",
   "metadata": {
    "scrolled": true
   },
   "outputs": [],
   "source": [
    "bot_answers = df[df['type_message'] != 'command']\n"
   ]
  },
  {
   "cell_type": "code",
   "execution_count": 34,
   "id": "c23385b2",
   "metadata": {
    "scrolled": true
   },
   "outputs": [],
   "source": [
    "filtered_df = df[(df['username'] == 'bot') | (df['username'].shift(-1) == 'bot')]\n",
    "\n",
    "# Нахождение индексов строк, где текущая и следующая строки равны 'bot'\n",
    "duplicate_bot_indices = filtered_df[(filtered_df['username'] == 'bot') & (filtered_df['username'].shift(-1) == 'bot')].index + 1\n",
    "\n",
    "# Удаление вторых строк из пар, где обе строки равны 'bot'\n",
    "filtered_df = filtered_df.drop(duplicate_bot_indices, errors='ignore')\n"
   ]
  },
  {
   "cell_type": "code",
   "execution_count": 35,
   "id": "c4923a50",
   "metadata": {},
   "outputs": [
    {
     "data": {
      "text/plain": [
       "18.426929392446635"
      ]
     },
     "execution_count": 35,
     "metadata": {},
     "output_type": "execute_result"
    }
   ],
   "source": [
    "differences = []\n",
    "\n",
    "for i in range(0, len(filtered_df) - 1, 2):\n",
    "    if i+1 < len(filtered_df):\n",
    "        delta = (filtered_df['date'].iloc[i+1] - filtered_df['date'].iloc[i])\n",
    "        differences.append(delta)\n",
    "\n",
    "average_difference_seconds = sum([d.total_seconds() for d in differences]) / len(differences) \n",
    "\n",
    "average_difference = pd.to_timedelta(average_difference_seconds, unit='s')\n",
    "\n",
    "average_difference_seconds\n",
    "\n"
   ]
  },
  {
   "cell_type": "markdown",
   "id": "013a60ea",
   "metadata": {},
   "source": [
    "Среднее время ответа от бота 18,5 секунд"
   ]
  },
  {
   "cell_type": "markdown",
   "id": "5f6ae5c0",
   "metadata": {},
   "source": [
    "# Выводы"
   ]
  },
  {
   "cell_type": "markdown",
   "id": "a39a6564",
   "metadata": {},
   "source": [
    "1. Всего в канале Futureskills_Chat_Bot_Log 1656 сообщений, 3 из которых пустые.\n",
    "\n",
    "2. В итоговом датафрейме: сообщений от пользователей - 1019, сообщений от бота - 634. Поскольку в логах есть команды типа /start и /help, текст после которых не пишется в логах, сообщений от бота меньше.\n",
    "\n",
    "3. Уникальных пользователей в канале - 71.\n",
    "\n",
    "4. Основная масса пользователей написало до 10 сообщений, но есть пользователи которые активно писали в канал. \n",
    "\n",
    "5. Более 50 человек написало 5 и менее сообщений.\n",
    "\n",
    "6. Топ 5 самых активных: GuntaRaga-180, Hanna_Kaus-142, OE1007-51, Allana_Kod-44, Yuliya_Solodyankina-34\n",
    "\n",
    "7. 179 сообщений от пользователей без никнеймов.\n",
    "\n",
    "8. Самая низкая активность с 5 утра до 12 дня. После активность стабильно растет и наблюдается скачок в 3 часа дня. Пиковая активность приходится на 3 часа ночи.\n",
    "\n",
    "9. Активность по дням стремительно растет к 5 числу и постепенно падает после. Самый активные дни: 5 и 6 числа.\n",
    "\n",
    "10. Чаще всего люди отправляют сообщение с запросом картинки 46.6%. Текстовые вопросы 37.1%. Прочие команды типа /start /help 16.3%. Стоит учитывать что иногда люди неправильно отправляли команды. в том числе команду /image без текста для картинки.\n",
    "\n",
    "11. Без учета разных факторов, которые мешают объективной оценки, можно сказать, что среднее время ответа от бота 18,5 секунд."
   ]
  },
  {
   "cell_type": "code",
   "execution_count": null,
   "id": "39297fa8",
   "metadata": {},
   "outputs": [],
   "source": []
  }
 ],
 "metadata": {
  "kernelspec": {
   "display_name": "Python 3 (ipykernel)",
   "language": "python",
   "name": "python3"
  },
  "language_info": {
   "codemirror_mode": {
    "name": "ipython",
    "version": 3
   },
   "file_extension": ".py",
   "mimetype": "text/x-python",
   "name": "python",
   "nbconvert_exporter": "python",
   "pygments_lexer": "ipython3",
   "version": "3.9.13"
  }
 },
 "nbformat": 4,
 "nbformat_minor": 5
}
